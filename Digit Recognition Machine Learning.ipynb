{
 "cells": [
  {
   "cell_type": "code",
   "execution_count": 23,
   "id": "e2d5ddd7",
   "metadata": {
    "scrolled": true
   },
   "outputs": [],
   "source": [
    "import pandas as pd\n",
    "import numpy as np\n",
    "from matplotlib import pyplot as plt"
   ]
  },
  {
   "cell_type": "code",
   "execution_count": 2,
   "id": "2ae90f5c",
   "metadata": {},
   "outputs": [],
   "source": [
    "data = pd.read_csv('/Users/MikeMargolis/Downloads/train.csv')"
   ]
  },
  {
   "cell_type": "code",
   "execution_count": 3,
   "id": "864f4328",
   "metadata": {},
   "outputs": [],
   "source": [
    "#data.head()"
   ]
  },
  {
   "cell_type": "code",
   "execution_count": 4,
   "id": "b3711f25",
   "metadata": {},
   "outputs": [
    {
     "name": "stdout",
     "output_type": "stream",
     "text": [
      "<class 'pandas.core.frame.DataFrame'>\n",
      "RangeIndex: 42000 entries, 0 to 41999\n",
      "Columns: 785 entries, label to pixel783\n",
      "dtypes: int64(785)\n",
      "memory usage: 251.5 MB\n"
     ]
    }
   ],
   "source": [
    "data.info()"
   ]
  },
  {
   "cell_type": "markdown",
   "id": "662bc15b",
   "metadata": {},
   "source": [
    "### observing the data and first thoughts\n",
    "- label and pixel values \n",
    "- first column is Y value next 784 are pixel values for each row, Good\n",
    "- if rows are 784 from a mtrix, it must be a 28 x 28 matrix, sqrt(784) = 28\n",
    "- need the dimension of the data m (rows) and n (columns)\n",
    "- probably have to make a numpy array to use my equations\n",
    "- split into train and test\n",
    "- have to transpose some matrixies to use matrix algebra\n",
    "- Sigmoid Vs ReLU, Sigmoid is better but harder to undo, ReLU works and I can get the derivative easier it when I get to backprop\n"
   ]
  },
  {
   "cell_type": "code",
   "execution_count": 5,
   "id": "c07b571d",
   "metadata": {},
   "outputs": [],
   "source": [
    "data = np.array(data)"
   ]
  },
  {
   "cell_type": "code",
   "execution_count": 6,
   "id": "07213920",
   "metadata": {},
   "outputs": [],
   "source": [
    "m ,n = data.shape"
   ]
  },
  {
   "cell_type": "code",
   "execution_count": 7,
   "id": "6ce70ab3",
   "metadata": {},
   "outputs": [],
   "source": [
    "np.random.shuffle(data)"
   ]
  },
  {
   "cell_type": "code",
   "execution_count": 8,
   "id": "135b527d",
   "metadata": {},
   "outputs": [],
   "source": [
    "data_test = data[0:2000].T\n",
    "Y_test = data_test[0]\n",
    "X_test = data_test[1:n]\n",
    "X_test = X_test / 255.\n",
    "\n",
    "data_train = data[2000:m].T\n",
    "Y_train = data_train[0]\n",
    "X_train = data_train[1:n]\n",
    "X_train = X_train / 255.\n",
    "_,m_train = X_train.shape"
   ]
  },
  {
   "cell_type": "code",
   "execution_count": 9,
   "id": "8b3fa580",
   "metadata": {},
   "outputs": [
    {
     "data": {
      "text/plain": [
       "array([0, 2, 2, ..., 0, 0, 2])"
      ]
     },
     "execution_count": 9,
     "metadata": {},
     "output_type": "execute_result"
    }
   ],
   "source": [
    "Y_train\n",
    "#correct Y values that we will be predicting"
   ]
  },
  {
   "cell_type": "code",
   "execution_count": 10,
   "id": "8ec65d3c",
   "metadata": {},
   "outputs": [
    {
     "data": {
      "text/plain": [
       "array([3, 0, 8, ..., 0, 4, 1])"
      ]
     },
     "execution_count": 10,
     "metadata": {},
     "output_type": "execute_result"
    }
   ],
   "source": [
    "Y_test"
   ]
  },
  {
   "cell_type": "code",
   "execution_count": 11,
   "id": "d7c21bcc",
   "metadata": {},
   "outputs": [
    {
     "data": {
      "text/plain": [
       "(784,)"
      ]
     },
     "execution_count": 11,
     "metadata": {},
     "output_type": "execute_result"
    }
   ],
   "source": [
    "X_train[:,0].shape\n",
    "#784 pixels, Good"
   ]
  },
  {
   "cell_type": "code",
   "execution_count": 12,
   "id": "2779e4ca",
   "metadata": {},
   "outputs": [
    {
     "data": {
      "text/plain": [
       "(784,)"
      ]
     },
     "execution_count": 12,
     "metadata": {},
     "output_type": "execute_result"
    }
   ],
   "source": [
    "X_test[:,0].shape"
   ]
  },
  {
   "cell_type": "markdown",
   "id": "6bab41de",
   "metadata": {},
   "source": [
    "## Start the math and define parameters"
   ]
  },
  {
   "cell_type": "code",
   "execution_count": 13,
   "id": "6239b446",
   "metadata": {},
   "outputs": [],
   "source": [
    "def init_params():\n",
    "    W1 = np.random.rand(10, 784) - 0.5\n",
    "    b1 = np.random.rand(10, 1) - 0.5\n",
    "    W2 = np.random.rand(10, 10) - 0.5\n",
    "    b2 = np.random.rand(10, 1) - 0.5\n",
    "    return W1, b1, W2, b2\n",
    "\n",
    "def ReLU(H):\n",
    "    return np.maximum(H, 0)\n",
    "\n",
    "def softmax(H):\n",
    "    A = np.exp(H) / sum(np.exp(H))\n",
    "    return A"
   ]
  },
  {
   "cell_type": "markdown",
   "id": "a0d01957",
   "metadata": {},
   "source": [
    "### Forward Propigation"
   ]
  },
  {
   "cell_type": "code",
   "execution_count": 14,
   "id": "f6a2d993",
   "metadata": {},
   "outputs": [],
   "source": [
    "def forward_prop(W1, b1, W2, b2, X):\n",
    "    H1 = W1.dot(X) + b1\n",
    "    A1 = ReLU(H1)\n",
    "    H2 = W2.dot(A1) + b2\n",
    "    A2 = softmax(H2)\n",
    "    return H1, A1, H2, A2"
   ]
  },
  {
   "cell_type": "markdown",
   "id": "df6df131",
   "metadata": {},
   "source": [
    "### Set up Backward Propigation"
   ]
  },
  {
   "cell_type": "code",
   "execution_count": 15,
   "id": "1b1267ba",
   "metadata": {},
   "outputs": [],
   "source": [
    "def ReLU_deriv(H):\n",
    "    return H > 0\n",
    "\n",
    "def one_hot(Y):\n",
    "    one_hot_Y = np.zeros((Y.size, Y.max() + 1))\n",
    "    one_hot_Y[np.arange(Y.size), Y] = 1\n",
    "    one_hot_Y = one_hot_Y.T\n",
    "    return one_hot_Y"
   ]
  },
  {
   "cell_type": "markdown",
   "id": "f39ea4cf",
   "metadata": {},
   "source": [
    "- need to fix Y to indicate values not be values called \"one hot\"\n",
    "- for each row fnd the column with the specified Y values and set = 1 if they match\n",
    "- then we have to flip the matrix we want the columns to be the example not each row"
   ]
  },
  {
   "cell_type": "markdown",
   "id": "706db862",
   "metadata": {},
   "source": [
    "### Backward Propigation and Updating"
   ]
  },
  {
   "cell_type": "code",
   "execution_count": 16,
   "id": "89038cc4",
   "metadata": {},
   "outputs": [],
   "source": [
    "def backward_prop(H1, A1, H2, A2, W1, W2, X, Y):\n",
    "    one_hot_Y = one_hot(Y)\n",
    "    dH2 = A2 - one_hot_Y\n",
    "    dW2 = 1 / m * dH2.dot(A1.T)\n",
    "    db2 = 1 / m * np.sum(dH2)\n",
    "    dH1 = W2.T.dot(dH2) * ReLU_deriv(H1)\n",
    "    dW1 = 1 / m * dH1.dot(X.T)\n",
    "    db1 = 1 / m * np.sum(dH1)\n",
    "    return dW1, db1, dW2, db2\n",
    "\n",
    "def update_params(W1, b1, W2, b2, dW1, db1, dW2, db2, alpha):\n",
    "    W1 = W1 - alpha * dW1\n",
    "    b1 = b1 - alpha * db1    \n",
    "    W2 = W2 - alpha * dW2  \n",
    "    b2 = b2 - alpha * db2    \n",
    "    return W1, b1, W2, b2"
   ]
  },
  {
   "cell_type": "markdown",
   "id": "f58468f5",
   "metadata": {},
   "source": [
    "### Setting up predictions and accuracy tests"
   ]
  },
  {
   "cell_type": "code",
   "execution_count": 17,
   "id": "d977839b",
   "metadata": {},
   "outputs": [],
   "source": [
    "def get_predictions(A2):\n",
    "    return np.argmax(A2, 0)\n",
    "\n",
    "def get_accuracy(predictions, Y):\n",
    "    print(predictions, Y)\n",
    "    return np.sum(predictions == Y) / Y.size"
   ]
  },
  {
   "cell_type": "markdown",
   "id": "7bf98a58",
   "metadata": {},
   "source": [
    "### Gradient Descent and setting up function for running tests"
   ]
  },
  {
   "cell_type": "code",
   "execution_count": 29,
   "id": "04f2ada2",
   "metadata": {},
   "outputs": [],
   "source": [
    "def gradient_descent(X, Y, alpha, iterations):\n",
    "    W1, b1, W2, b2 = init_params()\n",
    "    for i in range(iterations):\n",
    "        H1, A1, H2, A2 = forward_prop(W1, b1, W2, b2, X)\n",
    "        dW1, db1, dW2, db2 = backward_prop(H1, A1, H2, A2, W1, W2, X, Y)\n",
    "        W1, b1, W2, b2 = update_params(W1, b1, W2, b2, dW1, db1, dW2, db2, alpha)\n",
    "        if i % 200 == 0:\n",
    "            print(\"Iteration: \", i)\n",
    "            predictions = get_predictions(A2)\n",
    "            print(get_accuracy(predictions, Y))\n",
    "    return W1, b1, W2, b2\n",
    "        \n",
    "        "
   ]
  },
  {
   "cell_type": "markdown",
   "id": "41d88ceb",
   "metadata": {},
   "source": [
    "### Running the tests on training dataset with 500 iterations and a learning rate of 10%"
   ]
  },
  {
   "cell_type": "code",
   "execution_count": 37,
   "id": "217ba087",
   "metadata": {},
   "outputs": [
    {
     "name": "stdout",
     "output_type": "stream",
     "text": [
      "Iteration:  0\n",
      "[8 3 3 ... 3 3 3] [0 2 2 ... 0 0 2]\n",
      "0.078275\n",
      "Iteration:  200\n",
      "[0 2 2 ... 0 0 2] [0 2 2 ... 0 0 2]\n",
      "0.8472\n",
      "Iteration:  400\n",
      "[0 2 2 ... 0 0 2] [0 2 2 ... 0 0 2]\n",
      "0.881475\n",
      "Iteration:  600\n",
      "[0 2 2 ... 0 0 2] [0 2 2 ... 0 0 2]\n",
      "0.8938\n",
      "Iteration:  800\n",
      "[0 2 2 ... 0 0 2] [0 2 2 ... 0 0 2]\n",
      "0.9025\n"
     ]
    }
   ],
   "source": [
    "W1, b1, W2, b2 = gradient_descent(X_train, Y_train, 0.30, 1000)"
   ]
  },
  {
   "cell_type": "markdown",
   "id": "b371efe1",
   "metadata": {},
   "source": [
    "### Traning Data results and obeservations\n",
    "- First random seed we get an accuracy of 84.5% after 500 iterations and learning rate of 10%\n",
    "- Couple more random seeds with 1000 iterations best accuracy I got was 89%\n",
    "- Random seed with 1000 iterations and a learning rate of 30% the best accuracy I got in sample was 90.25%\n",
    "- pretty good \n",
    "- definetly beats the benchmark of 10% which is guessing a random digit everytime\n",
    "- Most comman mistakes are (9 and 7) (3, 8, and 5) (4 and 9) "
   ]
  },
  {
   "cell_type": "markdown",
   "id": "bbdfc14f",
   "metadata": {},
   "source": [
    "### Setting up display diagram plus prediction Vs actual display\n",
    "- Have to set up make_predictions command as a function of previous get_prediction command\n",
    "- Here we can type in a specific iteration and check our work\n",
    "- As well as display the actual digit to see how the AI came to its conclusion\n",
    "- have to reshape the row to a 28 x 28 matrix and frame to not lose scale"
   ]
  },
  {
   "cell_type": "code",
   "execution_count": 20,
   "id": "3571e015",
   "metadata": {},
   "outputs": [],
   "source": [
    "def make_predictions(X, W1, b1, W2, b2):\n",
    "    _, _, _, A2 = forward_prop(W1, b1, W2, b2, X)\n",
    "    predictions = get_predictions(A2)\n",
    "    return predictions\n",
    "\n",
    "def test_prediction(index, W1, b1, W2, b2):\n",
    "    current_image = X_train[:, index, None]\n",
    "    prediction = make_predictions(X_train[:, index, None], W1, b1, W2, b2)\n",
    "    label = Y_train[index]\n",
    "    print(\"Prediction: \", prediction)\n",
    "    print(\"Label: \", label)\n",
    "    \n",
    "    current_image = current_image.reshape((28, 28)) * 255\n",
    "    plt.gray()\n",
    "    plt.imshow(current_image, interpolation='nearest')\n",
    "    plt.show()"
   ]
  },
  {
   "cell_type": "code",
   "execution_count": 36,
   "id": "6041a28c",
   "metadata": {},
   "outputs": [
    {
     "name": "stdout",
     "output_type": "stream",
     "text": [
      "Prediction:  [1]\n",
      "Label:  1\n"
     ]
    },
    {
     "data": {
      "image/png": "[encoded data removed]",
      "text/plain": [
       "<Figure size 432x288 with 1 Axes>"
      ]
     },
     "metadata": {
      "needs_background": "light"
     },
     "output_type": "display_data"
    }
   ],
   "source": [
    "test_prediction(169, W1, b1, W2, b2)"
   ]
  },
  {
   "cell_type": "markdown",
   "id": "8fe455f5",
   "metadata": {},
   "source": [
    "### Running equation on test dataset\n",
    "- 500 iterations with a learning rate of 10%"
   ]
  },
  {
   "cell_type": "code",
   "execution_count": 33,
   "id": "6ddf3a8e",
   "metadata": {},
   "outputs": [
    {
     "name": "stdout",
     "output_type": "stream",
     "text": [
      "Iteration:  0\n",
      "[2 2 7 ... 2 2 7] [3 0 8 ... 0 4 1]\n",
      "0.0805\n",
      "Iteration:  200\n",
      "[5 4 8 ... 5 3 1] [3 0 8 ... 0 4 1]\n",
      "0.221\n",
      "Iteration:  400\n",
      "[5 4 8 ... 3 7 1] [3 0 8 ... 0 4 1]\n",
      "0.2795\n"
     ]
    }
   ],
   "source": [
    "W1, b1, W2, b2 = gradient_descent(X_test, Y_test, 0.10, 500)"
   ]
  },
  {
   "cell_type": "code",
   "execution_count": null,
   "id": "560e0c4d",
   "metadata": {},
   "outputs": [],
   "source": []
  }
 ],
 "metadata": {
  "kernelspec": {
   "display_name": "Python 3 (ipykernel)",
   "language": "python",
   "name": "python3"
  },
  "language_info": {
   "codemirror_mode": {
    "name": "ipython",
    "version": 3
   },
   "file_extension": ".py",
   "mimetype": "text/x-python",
   "name": "python",
   "nbconvert_exporter": "python",
   "pygments_lexer": "ipython3",
   "version": "3.9.7"
  }
 },
 "nbformat": 4,
 "nbformat_minor": 5
}
